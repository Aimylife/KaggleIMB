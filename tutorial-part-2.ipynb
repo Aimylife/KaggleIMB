{
 "cells": [
  {
   "cell_type": "markdown",
   "metadata": {},
   "source": [
    "## Bag of Words Meets Bags of Popcorn\n",
    "\n",
    "# 튜토리얼 파트 2 Word Vectors\n",
    "\n",
    "* 딥러닝 기법인 Word2Vec을 통해 단어를 벡터화 해본다. \n",
    "* t-SNE를 통해 벡터화 한 데이터를 시각화 해본다.\n",
    "* 딥러닝과 지도학습의 랜덤포레스트를 사용하는 하이브리드 방식을 사용한다.\n",
    "\n",
    "## Word2Vec(Word Embedding to Vector)\n",
    "\n",
    "컴퓨터는 숫자만 인식할 수 있고 한글, 이미지는 바이너리 코드로 저장 된다.\n",
    "튜토리얼 파트1에서는  Bag of Word라는 개념을 사용해서 문자를 벡터화 하여 머신러닝 알고리즘이 이해할 수 있도록 벡터화 해주는 작업을 하였다.\n",
    "\n",
    "\n",
    "* one hot encoding(예 [0000001000]) 혹은 Bag of Word에서 vector size가 매우 크고 sparse 하므로 neural net 성능이 잘 나오지 않는다.\n",
    "* `주위 단어가 비슷하면 해당 단어의 의미는 유사하다` 라는 아이디어\n",
    "* 단어를 트레이닝 시킬 때 주위 단어를 label로 매치하여 최적화\n",
    "* 단어를 `의미를 내포한 dense vector`로 매칭 시키는 것\n",
    "\n",
    "* Word2Vec은 분산 된 텍스트 표현을 사용하여 개념 간 유사성을 본다. 예를 들어, 파리와 프랑스가 베를린과 독일이 (수도와 나라) 같은 방식으로 관련되어 있음을 이해한다.\n",
    "\n",
    "![word2vec](https://1.bp.blogspot.com/-Q7F8ulD6fC0/UgvnVCSGmXI/AAAAAAAAAbg/MCWLTYBufhs/s1600/image00.gif)\n",
    "이미지 출처 : https://opensource.googleblog.com/2013/08/learning-meaning-behind-words.html\n",
    "\n",
    "* 단어의 임베딩과정을 실시간으로 시각화 : [word embedding visual inspector](https://ronxin.github.io/wevi/)\n",
    "\n",
    "\n",
    "![CBOW와 Skip-Gram](https://i.imgur.com/yXY1LxV.png)\n",
    "출처 : https://arxiv.org/pdf/1301.3781.pdf\n",
    " Tomas Mikolov, Ilya Sutskever, Kai Chen, Greg Corrado, and Jeffrey Dean. Distributed Representations of Words and Phrases and their Compositionality. In Proceedings of NIPS, 2013.\n",
    "\n",
    "\n",
    "* CBOW와 Skip-Gram기법이 있다.\n",
    "\n",
    "    * CBOW(continuous bag-of-words)는 전체 텍스트로 하나의 단어를 예측하기 때문에 작은 데이터셋일 수록 유리하다.    \n",
    "    * 아래 예제에서 __ 에 들어갈 단어를 예측한다.\n",
    "<pre>\n",
    "1) __가 맛있다. \n",
    "2) __를 타는 것이 재미있다. \n",
    "3) 평소보다 두 __로 많이 먹어서 __가 아프다.\n",
    "</pre>\n",
    "\n",
    "    * Skip-Gram은 타겟 단어들로부터 원본 단어를 역으로 예측하는 것이다. CBOW와는 반대로 컨텍스트-타겟 쌍을 새로운 발견으로 처리하고 큰 규모의 데이터셋을 가질 때 유리하다.\n",
    "    * `배`라는 단어 주변에 올 수 있는 단어를 예측한다.\n",
    "    \n",
    "    <pre>\n",
    "    1) *배*가 맛있다. \n",
    "    2) *배*를 타는 것이 재미있다. \n",
    "    3) 평소보다 두 *배*로 많이 먹어서 *배*가 아프다.\n",
    "    </pre>\n",
    "\n",
    "\n",
    "\n",
    "## Word2Vec 참고자료\n",
    "\n",
    "* [word2vec 모델 · 텐서플로우 문서 한글 번역본](https://tensorflowkorea.gitbooks.io/tensorflow-kr/g3doc/tutorials/word2vec/)\n",
    "* [Word2Vec으로 문장 분류하기 · ratsgo's blog](https://ratsgo.github.io/natural%20language%20processing/2017/03/08/word2vec/)\n",
    "\n",
    "* [Efficient Estimation of Word Representations in\n",
    "Vector Space](https://arxiv.org/pdf/1301.3781v3.pdf)\n",
    "* [Distributed Representations of Words and Phrases and their Compositionality](http://papers.nips.cc/paper/5021-distributed-representations-of-words-and-phrases-and-their-compositionality.pdf)\n",
    "* [CS224n: Natural Language Processing with Deep Learning](http://web.stanford.edu/class/cs224n/syllabus.html)\n",
    "* [Word2Vec Tutorial - The Skip-Gram Model · Chris McCormick](http://mccormickml.com/2016/04/19/word2vec-tutorial-the-skip-gram-model/)\n",
    "\n",
    "## Gensim\n",
    "\n",
    "* [gensim: models.word2vec – Deep learning with word2vec](https://radimrehurek.com/gensim/models/word2vec.html)\n",
    "* [gensim: Tutorials](https://radimrehurek.com/gensim/tutorial.html)\n",
    "* [한국어와 NLTK, Gensim의 만남 - PyCon Korea 2015](https://www.lucypark.kr/docs/2015-pyconkr/)\n",
    "\n",
    "\n"
   ]
  },
  {
   "cell_type": "code",
   "execution_count": 1,
   "metadata": {},
   "outputs": [],
   "source": [
    "# 출력이 너무 길어지지 않게하기 위해 찍지 않도록 했으나 \n",
    "# 실제 학습 할 때는 아래 두 줄을 주석처리 하는 것을 권장한다.\n",
    "import warnings\n",
    "warnings.filterwarnings('ignore')"
   ]
  },
  {
   "cell_type": "code",
   "execution_count": 2,
   "metadata": {},
   "outputs": [
    {
     "name": "stdout",
     "output_type": "stream",
     "text": [
      "(25000, 3)\n",
      "(25000, 2)\n",
      "(50000, 2)\n",
      "25000\n",
      "25000\n",
      "50000\n"
     ]
    }
   ],
   "source": [
    "import pandas as pd\n",
    "\n",
    "train = pd.read_csv('data/labeledTrainData.tsv', \n",
    "                    header=0, delimiter='\\t', quoting=3)\n",
    "test = pd.read_csv('data/testData.tsv', \n",
    "                   header=0, delimiter='\\t', quoting=3)\n",
    "unlabeled_train = pd.read_csv('data/unlabeledTrainData.tsv', \n",
    "                              header=0, delimiter='\\t', quoting=3)\n",
    "\n",
    "print(train.shape)\n",
    "print(test.shape)\n",
    "print(unlabeled_train.shape)\n",
    "\n",
    "print(train['review'].size)\n",
    "print(test['review'].size)\n",
    "print(unlabeled_train['review'].size)"
   ]
  },
  {
   "cell_type": "code",
   "execution_count": 3,
   "metadata": {},
   "outputs": [
    {
     "data": {
      "text/html": [
       "<div>\n",
       "<style scoped>\n",
       "    .dataframe tbody tr th:only-of-type {\n",
       "        vertical-align: middle;\n",
       "    }\n",
       "\n",
       "    .dataframe tbody tr th {\n",
       "        vertical-align: top;\n",
       "    }\n",
       "\n",
       "    .dataframe thead th {\n",
       "        text-align: right;\n",
       "    }\n",
       "</style>\n",
       "<table border=\"1\" class=\"dataframe\">\n",
       "  <thead>\n",
       "    <tr style=\"text-align: right;\">\n",
       "      <th></th>\n",
       "      <th>id</th>\n",
       "      <th>sentiment</th>\n",
       "      <th>review</th>\n",
       "    </tr>\n",
       "  </thead>\n",
       "  <tbody>\n",
       "    <tr>\n",
       "      <th>0</th>\n",
       "      <td>\"5814_8\"</td>\n",
       "      <td>1</td>\n",
       "      <td>\"With all this stuff going down at the moment ...</td>\n",
       "    </tr>\n",
       "    <tr>\n",
       "      <th>1</th>\n",
       "      <td>\"2381_9\"</td>\n",
       "      <td>1</td>\n",
       "      <td>\"\\\"The Classic War of the Worlds\\\" by Timothy ...</td>\n",
       "    </tr>\n",
       "    <tr>\n",
       "      <th>2</th>\n",
       "      <td>\"7759_3\"</td>\n",
       "      <td>0</td>\n",
       "      <td>\"The film starts with a manager (Nicholas Bell...</td>\n",
       "    </tr>\n",
       "    <tr>\n",
       "      <th>3</th>\n",
       "      <td>\"3630_4\"</td>\n",
       "      <td>0</td>\n",
       "      <td>\"It must be assumed that those who praised thi...</td>\n",
       "    </tr>\n",
       "    <tr>\n",
       "      <th>4</th>\n",
       "      <td>\"9495_8\"</td>\n",
       "      <td>1</td>\n",
       "      <td>\"Superbly trashy and wondrously unpretentious ...</td>\n",
       "    </tr>\n",
       "  </tbody>\n",
       "</table>\n",
       "</div>"
      ],
      "text/plain": [
       "         id  sentiment                                             review\n",
       "0  \"5814_8\"          1  \"With all this stuff going down at the moment ...\n",
       "1  \"2381_9\"          1  \"\\\"The Classic War of the Worlds\\\" by Timothy ...\n",
       "2  \"7759_3\"          0  \"The film starts with a manager (Nicholas Bell...\n",
       "3  \"3630_4\"          0  \"It must be assumed that those who praised thi...\n",
       "4  \"9495_8\"          1  \"Superbly trashy and wondrously unpretentious ..."
      ]
     },
     "execution_count": 3,
     "metadata": {},
     "output_type": "execute_result"
    }
   ],
   "source": [
    "train.head()"
   ]
  },
  {
   "cell_type": "code",
   "execution_count": 4,
   "metadata": {},
   "outputs": [
    {
     "data": {
      "text/html": [
       "<div>\n",
       "<style scoped>\n",
       "    .dataframe tbody tr th:only-of-type {\n",
       "        vertical-align: middle;\n",
       "    }\n",
       "\n",
       "    .dataframe tbody tr th {\n",
       "        vertical-align: top;\n",
       "    }\n",
       "\n",
       "    .dataframe thead th {\n",
       "        text-align: right;\n",
       "    }\n",
       "</style>\n",
       "<table border=\"1\" class=\"dataframe\">\n",
       "  <thead>\n",
       "    <tr style=\"text-align: right;\">\n",
       "      <th></th>\n",
       "      <th>id</th>\n",
       "      <th>review</th>\n",
       "    </tr>\n",
       "  </thead>\n",
       "  <tbody>\n",
       "    <tr>\n",
       "      <th>0</th>\n",
       "      <td>\"12311_10\"</td>\n",
       "      <td>\"Naturally in a film who's main themes are of ...</td>\n",
       "    </tr>\n",
       "    <tr>\n",
       "      <th>1</th>\n",
       "      <td>\"8348_2\"</td>\n",
       "      <td>\"This movie is a disaster within a disaster fi...</td>\n",
       "    </tr>\n",
       "    <tr>\n",
       "      <th>2</th>\n",
       "      <td>\"5828_4\"</td>\n",
       "      <td>\"All in all, this is a movie for kids. We saw ...</td>\n",
       "    </tr>\n",
       "    <tr>\n",
       "      <th>3</th>\n",
       "      <td>\"7186_2\"</td>\n",
       "      <td>\"Afraid of the Dark left me with the impressio...</td>\n",
       "    </tr>\n",
       "    <tr>\n",
       "      <th>4</th>\n",
       "      <td>\"12128_7\"</td>\n",
       "      <td>\"A very accurate depiction of small time mob l...</td>\n",
       "    </tr>\n",
       "  </tbody>\n",
       "</table>\n",
       "</div>"
      ],
      "text/plain": [
       "           id                                             review\n",
       "0  \"12311_10\"  \"Naturally in a film who's main themes are of ...\n",
       "1    \"8348_2\"  \"This movie is a disaster within a disaster fi...\n",
       "2    \"5828_4\"  \"All in all, this is a movie for kids. We saw ...\n",
       "3    \"7186_2\"  \"Afraid of the Dark left me with the impressio...\n",
       "4   \"12128_7\"  \"A very accurate depiction of small time mob l..."
      ]
     },
     "execution_count": 4,
     "metadata": {},
     "output_type": "execute_result"
    }
   ],
   "source": [
    "# train에 있는 평점정보인 sentiment가 없다.\n",
    "test.head()"
   ]
  },
  {
   "cell_type": "code",
   "execution_count": 5,
   "metadata": {},
   "outputs": [],
   "source": [
    "from KaggleWord2VecUtility import KaggleWord2VecUtility"
   ]
  },
  {
   "cell_type": "code",
   "execution_count": 6,
   "metadata": {},
   "outputs": [
    {
     "data": {
      "text/plain": [
       "['with', 'all', 'this', 'stuff', 'go', 'down', 'at', 'the', 'moment', 'with']"
      ]
     },
     "execution_count": 6,
     "metadata": {},
     "output_type": "execute_result"
    }
   ],
   "source": [
    "KaggleWord2VecUtility.review_to_wordlist(train['review'][0])[:10]"
   ]
  },
  {
   "cell_type": "code",
   "execution_count": 8,
   "metadata": {},
   "outputs": [],
   "source": [
    "import nltk"
   ]
  },
  {
   "cell_type": "code",
   "execution_count": 9,
   "metadata": {},
   "outputs": [
    {
     "name": "stderr",
     "output_type": "stream",
     "text": [
      "[nltk_data] Downloading package punkt to\n",
      "[nltk_data]     C:\\Users\\SAMSUNG\\AppData\\Roaming\\nltk_data...\n",
      "[nltk_data]   Unzipping tokenizers\\punkt.zip.\n"
     ]
    },
    {
     "data": {
      "text/plain": [
       "True"
      ]
     },
     "execution_count": 9,
     "metadata": {},
     "output_type": "execute_result"
    }
   ],
   "source": [
    "nltk.download('punkt')"
   ]
  },
  {
   "cell_type": "code",
   "execution_count": 10,
   "metadata": {},
   "outputs": [],
   "source": [
    "sentences = []\n",
    "for review in train[\"review\"]:\n",
    "    sentences += KaggleWord2VecUtility.review_to_sentences(\n",
    "        review, remove_stopwords=False)"
   ]
  },
  {
   "cell_type": "code",
   "execution_count": 11,
   "metadata": {},
   "outputs": [],
   "source": [
    "for review in unlabeled_train[\"review\"]:\n",
    "    sentences += KaggleWord2VecUtility.review_to_sentences(\n",
    "        review, remove_stopwords=False)"
   ]
  },
  {
   "cell_type": "code",
   "execution_count": 12,
   "metadata": {},
   "outputs": [
    {
     "data": {
      "text/plain": [
       "795538"
      ]
     },
     "execution_count": 12,
     "metadata": {},
     "output_type": "execute_result"
    }
   ],
   "source": [
    "len(sentences)"
   ]
  },
  {
   "cell_type": "code",
   "execution_count": 13,
   "metadata": {},
   "outputs": [
    {
     "data": {
      "text/plain": [
       "['with', 'all', 'this', 'stuff', 'go', 'down', 'at', 'the', 'moment', 'with']"
      ]
     },
     "execution_count": 13,
     "metadata": {},
     "output_type": "execute_result"
    }
   ],
   "source": [
    "sentences[0][:10]"
   ]
  },
  {
   "cell_type": "code",
   "execution_count": 14,
   "metadata": {},
   "outputs": [
    {
     "data": {
      "text/plain": [
       "['mayb', 'i', 'just', 'want', 'to', 'get', 'a', 'certain', 'insight', 'into']"
      ]
     },
     "execution_count": 14,
     "metadata": {},
     "output_type": "execute_result"
    }
   ],
   "source": [
    "sentences[1][:10]"
   ]
  },
  {
   "cell_type": "markdown",
   "metadata": {},
   "source": [
    "### Word2Vec 모델을 학습\n",
    "전처리를 거쳐 파싱된 문장의 목록으로 모델을 학습시킬 준비가 되었다.\n",
    "\n",
    "## Gensim\n",
    "* [gensim: models.word2vec – Deep learning with word2vec](https://radimrehurek.com/gensim/models/word2vec.html)\n",
    "\n",
    "### Word2Vec 모델의 파라메터\n",
    "\n",
    "* 아키텍처 : 아키텍처 옵션은 skip-gram (default) 또는  CBOW 모델이다. skip-gram (default)은 느리지 만 더 나은 결과를 낸다.\n",
    "\n",
    "* 학습 알고리즘 : Hierarchical softmax (default) 또는 negative 샘플링. 여기에서는 기본값이 잘 동작한다.\n",
    "\n",
    "* 빈번하게 등장하는 단어에 대한 다운 샘플링 : Google 문서는 .00001에서 .001 사이의 값을 권장한다. 여기에서는 0.001에 가까운 값이 최종 모델의 정확도를 높이는 것으로 보여진다.\n",
    "\n",
    "* 단어 벡터 차원 : 많은 feature를 사용한다고 항상 좋은 것은 아니지만 대체적으로 좀 더 나은 모델이 된다. 합리적인 값은 수십에서 수백 개가 될 수 있고 여기에서는 300으로 지정했다.\n",
    "\n",
    "* 컨텍스트 / 창 크기 : 학습 알고리즘이 고려해야하는 컨텍스트의 단어 수는 얼마나 될까? hierarchical softmax 를 위해 좀 더 큰 수가 좋지만 10 정도가 적당하다. \n",
    "\n",
    "* Worker threads : 실행할 병렬 프로세스의 수로 컴퓨터마다 다르지만 대부분의 시스템에서 4에서 6 사이의 값을 사용하다.\n",
    "\n",
    "* 최소 단어 수 : 어휘의 크기를 의미있는 단어로 제한하는 데 도움이 된다. 모든 문서에서이 여러 번 발생하지 않는 단어는 무시된다. 10에서 100 사이가 적당하며, 이 경진대회의 데이터는 각 영화가 30개씩의 리뷰가 있기 때문에 개별 영화 제목에 너무 많은 중요성이 붙는 것을 피하기 위해 최소 단어 수를 40으로 설정한다. 그 결과 전체 어휘 크기는 약 15,000 단어가 된다. 높은 값은 제한 된 실행시간에 도움이 된다."
   ]
  },
  {
   "cell_type": "code",
   "execution_count": 15,
   "metadata": {},
   "outputs": [],
   "source": [
    "import logging\n",
    "logging.basicConfig(\n",
    "    format='%(asctime)s : %(levelname)s : %(message)s', \n",
    "    level=logging.INFO)"
   ]
  },
  {
   "cell_type": "code",
   "execution_count": 17,
   "metadata": {},
   "outputs": [
    {
     "name": "stdout",
     "output_type": "stream",
     "text": [
      "Collecting gensim\n",
      "  Downloading gensim-3.8.1-cp36-cp36m-win_amd64.whl (24.2 MB)\n",
      "Requirement already satisfied, skipping upgrade: scipy>=0.18.1 in c:\\users\\anaconda3\\envs\\mytens2020\\lib\\site-packages (from gensim) (1.3.2)\n",
      "Collecting smart-open>=1.8.1\n",
      "  Downloading smart_open-1.10.0.tar.gz (99 kB)\n",
      "Requirement already satisfied, skipping upgrade: six>=1.5.0 in c:\\users\\anaconda3\\envs\\mytens2020\\lib\\site-packages (from gensim) (1.14.0)\n",
      "Requirement already satisfied, skipping upgrade: numpy>=1.11.3 in c:\\users\\anaconda3\\envs\\mytens2020\\lib\\site-packages (from gensim) (1.18.1)\n",
      "Requirement already satisfied, skipping upgrade: requests in c:\\users\\anaconda3\\envs\\mytens2020\\lib\\site-packages (from smart-open>=1.8.1->gensim) (2.22.0)\n",
      "Collecting boto3\n",
      "  Downloading boto3-1.12.26-py2.py3-none-any.whl (128 kB)\n",
      "Collecting google-cloud-storage\n",
      "  Downloading google_cloud_storage-1.26.0-py2.py3-none-any.whl (75 kB)\n",
      "Requirement already satisfied, skipping upgrade: certifi>=2017.4.17 in c:\\users\\anaconda3\\envs\\mytens2020\\lib\\site-packages (from requests->smart-open>=1.8.1->gensim) (2019.11.28)\n",
      "Requirement already satisfied, skipping upgrade: chardet<3.1.0,>=3.0.2 in c:\\users\\anaconda3\\envs\\mytens2020\\lib\\site-packages (from requests->smart-open>=1.8.1->gensim) (3.0.4)\n",
      "Requirement already satisfied, skipping upgrade: urllib3!=1.25.0,!=1.25.1,<1.26,>=1.21.1 in c:\\users\\anaconda3\\envs\\mytens2020\\lib\\site-packages (from requests->smart-open>=1.8.1->gensim) (1.25.8)\n",
      "Requirement already satisfied, skipping upgrade: idna<2.9,>=2.5 in c:\\users\\anaconda3\\envs\\mytens2020\\lib\\site-packages (from requests->smart-open>=1.8.1->gensim) (2.8)\n",
      "Collecting jmespath<1.0.0,>=0.7.1\n",
      "  Downloading jmespath-0.9.5-py2.py3-none-any.whl (24 kB)\n",
      "Collecting botocore<1.16.0,>=1.15.26\n",
      "  Downloading botocore-1.15.26-py2.py3-none-any.whl (6.0 MB)\n",
      "Collecting s3transfer<0.4.0,>=0.3.0\n",
      "  Downloading s3transfer-0.3.3-py2.py3-none-any.whl (69 kB)\n",
      "Collecting google-resumable-media<0.6dev,>=0.5.0\n",
      "  Downloading google_resumable_media-0.5.0-py2.py3-none-any.whl (38 kB)\n",
      "Collecting google-auth<2.0dev,>=1.11.0\n",
      "  Downloading google_auth-1.11.3-py2.py3-none-any.whl (76 kB)\n",
      "Collecting google-cloud-core<2.0dev,>=1.2.0\n",
      "  Downloading google_cloud_core-1.3.0-py2.py3-none-any.whl (26 kB)\n",
      "Requirement already satisfied, skipping upgrade: python-dateutil<3.0.0,>=2.1 in c:\\users\\anaconda3\\envs\\mytens2020\\lib\\site-packages (from botocore<1.16.0,>=1.15.26->boto3->smart-open>=1.8.1->gensim) (2.8.1)\n",
      "Collecting docutils<0.16,>=0.10\n",
      "  Downloading docutils-0.15.2-py3-none-any.whl (547 kB)\n",
      "Collecting pyasn1-modules>=0.2.1\n",
      "  Using cached pyasn1_modules-0.2.8-py2.py3-none-any.whl (155 kB)\n",
      "Requirement already satisfied, skipping upgrade: setuptools>=40.3.0 in c:\\users\\anaconda3\\envs\\mytens2020\\lib\\site-packages (from google-auth<2.0dev,>=1.11.0->google-cloud-storage->smart-open>=1.8.1->gensim) (45.1.0.post20200127)\n",
      "Collecting cachetools<5.0,>=2.0.0\n",
      "  Using cached cachetools-4.0.0-py3-none-any.whl (10 kB)\n",
      "Collecting rsa<4.1,>=3.1.4\n",
      "  Using cached rsa-4.0-py2.py3-none-any.whl (38 kB)\n",
      "Collecting google-api-core<2.0.0dev,>=1.16.0\n",
      "  Downloading google_api_core-1.16.0-py2.py3-none-any.whl (70 kB)\n",
      "Collecting pyasn1<0.5.0,>=0.4.6\n",
      "  Using cached pyasn1-0.4.8-py2.py3-none-any.whl (77 kB)\n",
      "Collecting googleapis-common-protos<2.0dev,>=1.6.0\n",
      "  Downloading googleapis-common-protos-1.51.0.tar.gz (35 kB)\n",
      "Requirement already satisfied, skipping upgrade: protobuf>=3.4.0 in c:\\users\\anaconda3\\envs\\mytens2020\\lib\\site-packages (from google-api-core<2.0.0dev,>=1.16.0->google-cloud-core<2.0dev,>=1.2.0->google-cloud-storage->smart-open>=1.8.1->gensim) (3.11.2)\n",
      "Requirement already satisfied, skipping upgrade: pytz in c:\\users\\anaconda3\\envs\\mytens2020\\lib\\site-packages (from google-api-core<2.0.0dev,>=1.16.0->google-cloud-core<2.0dev,>=1.2.0->google-cloud-storage->smart-open>=1.8.1->gensim) (2019.3)\n",
      "Building wheels for collected packages: smart-open, googleapis-common-protos\n",
      "  Building wheel for smart-open (setup.py): started\n",
      "  Building wheel for smart-open (setup.py): finished with status 'done'\n",
      "  Created wheel for smart-open: filename=smart_open-1.10.0-py3-none-any.whl size=90639 sha256=4e9658a13c655c380406c2565e5bd14c1ee1ee7851979ce1f3d5507ad31e9e3e\n",
      "  Stored in directory: c:\\users\\samsung\\appdata\\local\\pip\\cache\\wheels\\a1\\f3\\8a\\c46924c44ee290a85840f98cab840a65669cd377175eaf6850\n",
      "  Building wheel for googleapis-common-protos (setup.py): started\n",
      "  Building wheel for googleapis-common-protos (setup.py): finished with status 'done'\n",
      "  Created wheel for googleapis-common-protos: filename=googleapis_common_protos-1.51.0-py3-none-any.whl size=77602 sha256=781ffdb45babbf4baa8847a81a569dc712946bcc3eca7cf2580ced50f5ef6b4e\n",
      "  Stored in directory: c:\\users\\samsung\\appdata\\local\\pip\\cache\\wheels\\35\\8d\\af\\a922cb18800b31fadac3523cadf6c1efdf233b788fe7a4da70\n",
      "Successfully built smart-open googleapis-common-protos\n",
      "Installing collected packages: jmespath, docutils, botocore, s3transfer, boto3, google-resumable-media, pyasn1, pyasn1-modules, cachetools, rsa, google-auth, googleapis-common-protos, google-api-core, google-cloud-core, google-cloud-storage, smart-open, gensim\n",
      "Successfully installed boto3-1.12.26 botocore-1.15.26 cachetools-4.0.0 docutils-0.15.2 gensim-3.8.1 google-api-core-1.16.0 google-auth-1.11.3 google-cloud-core-1.3.0 google-cloud-storage-1.26.0 google-resumable-media-0.5.0 googleapis-common-protos-1.51.0 jmespath-0.9.5 pyasn1-0.4.8 pyasn1-modules-0.2.8 rsa-4.0 s3transfer-0.3.3 smart-open-1.10.0\n"
     ]
    }
   ],
   "source": [
    "!pip install -U gensim"
   ]
  },
  {
   "cell_type": "code",
   "execution_count": 18,
   "metadata": {},
   "outputs": [
    {
     "name": "stderr",
     "output_type": "stream",
     "text": [
      "2020-03-21 18:16:34,285 : INFO : collecting all words and their counts\n",
      "2020-03-21 18:16:34,286 : INFO : PROGRESS: at sentence #0, processed 0 words, keeping 0 word types\n",
      "2020-03-21 18:16:34,326 : INFO : PROGRESS: at sentence #10000, processed 225803 words, keeping 12465 word types\n",
      "2020-03-21 18:16:34,364 : INFO : PROGRESS: at sentence #20000, processed 451892 words, keeping 17070 word types\n",
      "2020-03-21 18:16:34,402 : INFO : PROGRESS: at sentence #30000, processed 671314 words, keeping 20370 word types\n",
      "2020-03-21 18:16:34,440 : INFO : PROGRESS: at sentence #40000, processed 897814 words, keeping 23125 word types\n",
      "2020-03-21 18:16:34,477 : INFO : PROGRESS: at sentence #50000, processed 1116962 words, keeping 25365 word types\n",
      "2020-03-21 18:16:34,514 : INFO : PROGRESS: at sentence #60000, processed 1338403 words, keeping 27283 word types\n",
      "2020-03-21 18:16:34,552 : INFO : PROGRESS: at sentence #70000, processed 1561579 words, keeping 29024 word types\n",
      "2020-03-21 18:16:34,590 : INFO : PROGRESS: at sentence #80000, processed 1780886 words, keeping 30603 word types\n",
      "2020-03-21 18:16:34,627 : INFO : PROGRESS: at sentence #90000, processed 2004995 words, keeping 32223 word types\n",
      "2020-03-21 18:16:34,664 : INFO : PROGRESS: at sentence #100000, processed 2226966 words, keeping 33579 word types\n",
      "2020-03-21 18:16:34,705 : INFO : PROGRESS: at sentence #110000, processed 2446580 words, keeping 34827 word types\n",
      "2020-03-21 18:16:34,745 : INFO : PROGRESS: at sentence #120000, processed 2668775 words, keeping 36183 word types\n",
      "2020-03-21 18:16:34,783 : INFO : PROGRESS: at sentence #130000, processed 2894303 words, keeping 37353 word types\n",
      "2020-03-21 18:16:34,816 : INFO : PROGRESS: at sentence #140000, processed 3107005 words, keeping 38376 word types\n",
      "2020-03-21 18:16:34,855 : INFO : PROGRESS: at sentence #150000, processed 3332627 words, keeping 39556 word types\n",
      "2020-03-21 18:16:34,893 : INFO : PROGRESS: at sentence #160000, processed 3555315 words, keeping 40629 word types\n",
      "2020-03-21 18:16:34,930 : INFO : PROGRESS: at sentence #170000, processed 3778655 words, keeping 41628 word types\n",
      "2020-03-21 18:16:34,969 : INFO : PROGRESS: at sentence #180000, processed 3999236 words, keeping 42599 word types\n",
      "2020-03-21 18:16:35,007 : INFO : PROGRESS: at sentence #190000, processed 4224449 words, keeping 43461 word types\n",
      "2020-03-21 18:16:35,044 : INFO : PROGRESS: at sentence #200000, processed 4448603 words, keeping 44301 word types\n",
      "2020-03-21 18:16:35,086 : INFO : PROGRESS: at sentence #210000, processed 4669967 words, keeping 45212 word types\n",
      "2020-03-21 18:16:35,122 : INFO : PROGRESS: at sentence #220000, processed 4894968 words, keeping 46134 word types\n",
      "2020-03-21 18:16:35,160 : INFO : PROGRESS: at sentence #230000, processed 5117546 words, keeping 46986 word types\n",
      "2020-03-21 18:16:35,198 : INFO : PROGRESS: at sentence #240000, processed 5345051 words, keeping 47854 word types\n",
      "2020-03-21 18:16:35,236 : INFO : PROGRESS: at sentence #250000, processed 5559166 words, keeping 48699 word types\n",
      "2020-03-21 18:16:35,272 : INFO : PROGRESS: at sentence #260000, processed 5779147 words, keeping 49469 word types\n",
      "2020-03-21 18:16:35,310 : INFO : PROGRESS: at sentence #270000, processed 6000436 words, keeping 50416 word types\n",
      "2020-03-21 18:16:35,348 : INFO : PROGRESS: at sentence #280000, processed 6226315 words, keeping 51640 word types\n",
      "2020-03-21 18:16:35,387 : INFO : PROGRESS: at sentence #290000, processed 6449475 words, keeping 52754 word types\n",
      "2020-03-21 18:16:35,435 : INFO : PROGRESS: at sentence #300000, processed 6674078 words, keeping 53755 word types\n",
      "2020-03-21 18:16:35,476 : INFO : PROGRESS: at sentence #310000, processed 6899392 words, keeping 54734 word types\n",
      "2020-03-21 18:16:35,515 : INFO : PROGRESS: at sentence #320000, processed 7124279 words, keeping 55770 word types\n",
      "2020-03-21 18:16:35,561 : INFO : PROGRESS: at sentence #330000, processed 7346022 words, keeping 56687 word types\n",
      "2020-03-21 18:16:35,600 : INFO : PROGRESS: at sentence #340000, processed 7575534 words, keeping 57629 word types\n",
      "2020-03-21 18:16:35,643 : INFO : PROGRESS: at sentence #350000, processed 7798804 words, keeping 58485 word types\n",
      "2020-03-21 18:16:35,677 : INFO : PROGRESS: at sentence #360000, processed 8019467 words, keeping 59345 word types\n",
      "2020-03-21 18:16:35,718 : INFO : PROGRESS: at sentence #370000, processed 8246659 words, keeping 60161 word types\n",
      "2020-03-21 18:16:35,758 : INFO : PROGRESS: at sentence #380000, processed 8471806 words, keeping 61069 word types\n",
      "2020-03-21 18:16:35,796 : INFO : PROGRESS: at sentence #390000, processed 8701556 words, keeping 61810 word types\n",
      "2020-03-21 18:16:35,837 : INFO : PROGRESS: at sentence #400000, processed 8924505 words, keeping 62546 word types\n",
      "2020-03-21 18:16:35,877 : INFO : PROGRESS: at sentence #410000, processed 9145855 words, keeping 63263 word types\n",
      "2020-03-21 18:16:35,914 : INFO : PROGRESS: at sentence #420000, processed 9366935 words, keeping 64024 word types\n",
      "2020-03-21 18:16:35,953 : INFO : PROGRESS: at sentence #430000, processed 9594472 words, keeping 64795 word types\n",
      "2020-03-21 18:16:35,992 : INFO : PROGRESS: at sentence #440000, processed 9821225 words, keeping 65539 word types\n",
      "2020-03-21 18:16:36,032 : INFO : PROGRESS: at sentence #450000, processed 10044987 words, keeping 66378 word types\n",
      "2020-03-21 18:16:36,071 : INFO : PROGRESS: at sentence #460000, processed 10277747 words, keeping 67158 word types\n",
      "2020-03-21 18:16:36,109 : INFO : PROGRESS: at sentence #470000, processed 10505672 words, keeping 67775 word types\n",
      "2020-03-21 18:16:36,151 : INFO : PROGRESS: at sentence #480000, processed 10726056 words, keeping 68500 word types\n",
      "2020-03-21 18:16:36,187 : INFO : PROGRESS: at sentence #490000, processed 10952800 words, keeping 69256 word types\n",
      "2020-03-21 18:16:36,226 : INFO : PROGRESS: at sentence #500000, processed 11174456 words, keeping 69892 word types\n",
      "2020-03-21 18:16:36,269 : INFO : PROGRESS: at sentence #510000, processed 11399731 words, keeping 70593 word types\n",
      "2020-03-21 18:16:36,304 : INFO : PROGRESS: at sentence #520000, processed 11623082 words, keeping 71267 word types\n",
      "2020-03-21 18:16:36,345 : INFO : PROGRESS: at sentence #530000, processed 11847480 words, keeping 71877 word types\n",
      "2020-03-21 18:16:36,389 : INFO : PROGRESS: at sentence #540000, processed 12072095 words, keeping 72537 word types\n",
      "2020-03-21 18:16:36,433 : INFO : PROGRESS: at sentence #550000, processed 12297646 words, keeping 73212 word types\n",
      "2020-03-21 18:16:36,476 : INFO : PROGRESS: at sentence #560000, processed 12518936 words, keeping 73861 word types\n",
      "2020-03-21 18:16:36,515 : INFO : PROGRESS: at sentence #570000, processed 12748083 words, keeping 74431 word types\n",
      "2020-03-21 18:16:36,556 : INFO : PROGRESS: at sentence #580000, processed 12969579 words, keeping 75087 word types\n",
      "2020-03-21 18:16:36,602 : INFO : PROGRESS: at sentence #590000, processed 13195103 words, keeping 75734 word types\n",
      "2020-03-21 18:16:36,640 : INFO : PROGRESS: at sentence #600000, processed 13417301 words, keeping 76295 word types\n",
      "2020-03-21 18:16:36,679 : INFO : PROGRESS: at sentence #610000, processed 13638324 words, keeping 76953 word types\n",
      "2020-03-21 18:16:36,718 : INFO : PROGRESS: at sentence #620000, processed 13864649 words, keeping 77504 word types\n",
      "2020-03-21 18:16:36,756 : INFO : PROGRESS: at sentence #630000, processed 14088935 words, keeping 78067 word types\n",
      "2020-03-21 18:16:36,791 : INFO : PROGRESS: at sentence #640000, processed 14309718 words, keeping 78693 word types\n",
      "2020-03-21 18:16:36,829 : INFO : PROGRESS: at sentence #650000, processed 14535474 words, keeping 79296 word types\n",
      "2020-03-21 18:16:36,874 : INFO : PROGRESS: at sentence #660000, processed 14758264 words, keeping 79865 word types\n",
      "2020-03-21 18:16:36,913 : INFO : PROGRESS: at sentence #670000, processed 14981657 words, keeping 80382 word types\n",
      "2020-03-21 18:16:36,970 : INFO : PROGRESS: at sentence #680000, processed 15206489 words, keeping 80913 word types\n",
      "2020-03-21 18:16:37,012 : INFO : PROGRESS: at sentence #690000, processed 15428682 words, keeping 81483 word types\n",
      "2020-03-21 18:16:37,069 : INFO : PROGRESS: at sentence #700000, processed 15657388 words, keeping 82075 word types\n",
      "2020-03-21 18:16:37,111 : INFO : PROGRESS: at sentence #710000, processed 15880377 words, keeping 82561 word types\n"
     ]
    },
    {
     "name": "stderr",
     "output_type": "stream",
     "text": [
      "2020-03-21 18:16:37,155 : INFO : PROGRESS: at sentence #720000, processed 16105664 words, keeping 83037 word types\n",
      "2020-03-21 18:16:37,196 : INFO : PROGRESS: at sentence #730000, processed 16332045 words, keeping 83572 word types\n",
      "2020-03-21 18:16:37,235 : INFO : PROGRESS: at sentence #740000, processed 16553078 words, keeping 84128 word types\n",
      "2020-03-21 18:16:37,272 : INFO : PROGRESS: at sentence #750000, processed 16771405 words, keeping 84600 word types\n",
      "2020-03-21 18:16:37,310 : INFO : PROGRESS: at sentence #760000, processed 16990809 words, keeping 85069 word types\n",
      "2020-03-21 18:16:37,355 : INFO : PROGRESS: at sentence #770000, processed 17217946 words, keeping 85645 word types\n",
      "2020-03-21 18:16:37,398 : INFO : PROGRESS: at sentence #780000, processed 17448092 words, keeping 86161 word types\n",
      "2020-03-21 18:16:37,442 : INFO : PROGRESS: at sentence #790000, processed 17675168 words, keeping 86666 word types\n",
      "2020-03-21 18:16:37,464 : INFO : collected 86997 word types from a corpus of 17798269 raw words and 795538 sentences\n",
      "2020-03-21 18:16:37,465 : INFO : Loading a fresh vocabulary\n",
      "2020-03-21 18:16:37,512 : INFO : effective_min_count=40 retains 11986 unique words (13% of original 86997, drops 75011)\n",
      "2020-03-21 18:16:37,512 : INFO : effective_min_count=40 leaves 17434031 word corpus (97% of original 17798269, drops 364238)\n",
      "2020-03-21 18:16:37,550 : INFO : deleting the raw counts dictionary of 86997 items\n",
      "2020-03-21 18:16:37,554 : INFO : sample=0.001 downsamples 50 most-common words\n",
      "2020-03-21 18:16:37,554 : INFO : downsampling leaves estimated 12872362 word corpus (73.8% of prior 17434031)\n",
      "2020-03-21 18:16:37,592 : INFO : estimated required memory for 11986 words and 300 dimensions: 34759400 bytes\n",
      "2020-03-21 18:16:37,592 : INFO : resetting layer weights\n",
      "2020-03-21 18:16:39,770 : INFO : training model with 4 workers on 11986 vocabulary and 300 features, using sg=0 hs=0 sample=0.001 negative=5 window=10\n",
      "2020-03-21 18:16:40,789 : INFO : EPOCH 1 - PROGRESS: at 8.28% examples, 1050687 words/s, in_qsize 7, out_qsize 0\n",
      "2020-03-21 18:16:41,798 : INFO : EPOCH 1 - PROGRESS: at 17.18% examples, 1087127 words/s, in_qsize 7, out_qsize 0\n",
      "2020-03-21 18:16:42,801 : INFO : EPOCH 1 - PROGRESS: at 26.57% examples, 1125440 words/s, in_qsize 7, out_qsize 0\n",
      "2020-03-21 18:16:43,809 : INFO : EPOCH 1 - PROGRESS: at 35.50% examples, 1126814 words/s, in_qsize 7, out_qsize 0\n",
      "2020-03-21 18:16:44,810 : INFO : EPOCH 1 - PROGRESS: at 41.65% examples, 1060358 words/s, in_qsize 8, out_qsize 0\n",
      "2020-03-21 18:16:45,814 : INFO : EPOCH 1 - PROGRESS: at 47.50% examples, 1009474 words/s, in_qsize 7, out_qsize 0\n",
      "2020-03-21 18:16:46,826 : INFO : EPOCH 1 - PROGRESS: at 53.05% examples, 966087 words/s, in_qsize 7, out_qsize 0\n",
      "2020-03-21 18:16:47,833 : INFO : EPOCH 1 - PROGRESS: at 57.79% examples, 922309 words/s, in_qsize 7, out_qsize 0\n",
      "2020-03-21 18:16:48,840 : INFO : EPOCH 1 - PROGRESS: at 62.82% examples, 891483 words/s, in_qsize 8, out_qsize 0\n",
      "2020-03-21 18:16:49,842 : INFO : EPOCH 1 - PROGRESS: at 67.75% examples, 865872 words/s, in_qsize 7, out_qsize 0\n",
      "2020-03-21 18:16:50,857 : INFO : EPOCH 1 - PROGRESS: at 72.72% examples, 844590 words/s, in_qsize 7, out_qsize 0\n",
      "2020-03-21 18:16:51,884 : INFO : EPOCH 1 - PROGRESS: at 77.89% examples, 827796 words/s, in_qsize 8, out_qsize 0\n",
      "2020-03-21 18:16:52,892 : INFO : EPOCH 1 - PROGRESS: at 83.62% examples, 820283 words/s, in_qsize 7, out_qsize 0\n",
      "2020-03-21 18:16:53,901 : INFO : EPOCH 1 - PROGRESS: at 89.42% examples, 814863 words/s, in_qsize 7, out_qsize 0\n",
      "2020-03-21 18:16:54,902 : INFO : EPOCH 1 - PROGRESS: at 95.70% examples, 813934 words/s, in_qsize 7, out_qsize 0\n",
      "2020-03-21 18:16:55,563 : INFO : worker thread finished; awaiting finish of 3 more threads\n",
      "2020-03-21 18:16:55,576 : INFO : worker thread finished; awaiting finish of 2 more threads\n",
      "2020-03-21 18:16:55,577 : INFO : worker thread finished; awaiting finish of 1 more threads\n",
      "2020-03-21 18:16:55,585 : INFO : worker thread finished; awaiting finish of 0 more threads\n",
      "2020-03-21 18:16:55,586 : INFO : EPOCH - 1 : training on 17798269 raw words (12872577 effective words) took 15.8s, 814328 effective words/s\n",
      "2020-03-21 18:16:56,603 : INFO : EPOCH 2 - PROGRESS: at 5.98% examples, 765536 words/s, in_qsize 7, out_qsize 0\n",
      "2020-03-21 18:16:57,609 : INFO : EPOCH 2 - PROGRESS: at 12.29% examples, 780881 words/s, in_qsize 7, out_qsize 0\n",
      "2020-03-21 18:16:58,610 : INFO : EPOCH 2 - PROGRESS: at 18.13% examples, 768373 words/s, in_qsize 8, out_qsize 0\n",
      "2020-03-21 18:16:59,617 : INFO : EPOCH 2 - PROGRESS: at 24.15% examples, 768132 words/s, in_qsize 7, out_qsize 1\n",
      "2020-03-21 18:17:00,638 : INFO : EPOCH 2 - PROGRESS: at 29.31% examples, 744367 words/s, in_qsize 6, out_qsize 1\n",
      "2020-03-21 18:17:01,638 : INFO : EPOCH 2 - PROGRESS: at 33.21% examples, 702252 words/s, in_qsize 8, out_qsize 1\n",
      "2020-03-21 18:17:02,643 : INFO : EPOCH 2 - PROGRESS: at 38.45% examples, 698399 words/s, in_qsize 7, out_qsize 0\n",
      "2020-03-21 18:17:03,662 : INFO : EPOCH 2 - PROGRESS: at 44.61% examples, 708664 words/s, in_qsize 7, out_qsize 0\n",
      "2020-03-21 18:17:04,670 : INFO : EPOCH 2 - PROGRESS: at 50.51% examples, 714275 words/s, in_qsize 7, out_qsize 0\n",
      "2020-03-21 18:17:05,676 : INFO : EPOCH 2 - PROGRESS: at 56.00% examples, 713175 words/s, in_qsize 7, out_qsize 0\n",
      "2020-03-21 18:17:06,680 : INFO : EPOCH 2 - PROGRESS: at 62.03% examples, 719536 words/s, in_qsize 7, out_qsize 1\n",
      "2020-03-21 18:17:07,688 : INFO : EPOCH 2 - PROGRESS: at 68.15% examples, 724656 words/s, in_qsize 7, out_qsize 0\n",
      "2020-03-21 18:17:08,687 : INFO : EPOCH 2 - PROGRESS: at 74.07% examples, 727836 words/s, in_qsize 7, out_qsize 0\n",
      "2020-03-21 18:17:09,689 : INFO : EPOCH 2 - PROGRESS: at 79.97% examples, 729849 words/s, in_qsize 7, out_qsize 0\n",
      "2020-03-21 18:17:10,691 : INFO : EPOCH 2 - PROGRESS: at 86.08% examples, 733589 words/s, in_qsize 8, out_qsize 1\n",
      "2020-03-21 18:17:11,694 : INFO : EPOCH 2 - PROGRESS: at 91.92% examples, 734946 words/s, in_qsize 7, out_qsize 0\n",
      "2020-03-21 18:17:12,698 : INFO : EPOCH 2 - PROGRESS: at 98.06% examples, 737810 words/s, in_qsize 7, out_qsize 0\n",
      "2020-03-21 18:17:12,988 : INFO : worker thread finished; awaiting finish of 3 more threads\n",
      "2020-03-21 18:17:12,991 : INFO : worker thread finished; awaiting finish of 2 more threads\n",
      "2020-03-21 18:17:13,002 : INFO : worker thread finished; awaiting finish of 1 more threads\n",
      "2020-03-21 18:17:13,011 : INFO : worker thread finished; awaiting finish of 0 more threads\n",
      "2020-03-21 18:17:13,012 : INFO : EPOCH - 2 : training on 17798269 raw words (12871984 effective words) took 17.4s, 738989 effective words/s\n",
      "2020-03-21 18:17:14,021 : INFO : EPOCH 3 - PROGRESS: at 5.87% examples, 757768 words/s, in_qsize 8, out_qsize 0\n",
      "2020-03-21 18:17:15,031 : INFO : EPOCH 3 - PROGRESS: at 12.06% examples, 768803 words/s, in_qsize 7, out_qsize 0\n",
      "2020-03-21 18:17:16,044 : INFO : EPOCH 3 - PROGRESS: at 18.42% examples, 778607 words/s, in_qsize 8, out_qsize 0\n",
      "2020-03-21 18:17:17,050 : INFO : EPOCH 3 - PROGRESS: at 24.56% examples, 779631 words/s, in_qsize 7, out_qsize 0\n",
      "2020-03-21 18:17:18,060 : INFO : EPOCH 3 - PROGRESS: at 30.55% examples, 776525 words/s, in_qsize 7, out_qsize 0\n",
      "2020-03-21 18:17:19,081 : INFO : EPOCH 3 - PROGRESS: at 36.85% examples, 777863 words/s, in_qsize 7, out_qsize 0\n",
      "2020-03-21 18:17:20,102 : INFO : EPOCH 3 - PROGRESS: at 42.86% examples, 775835 words/s, in_qsize 6, out_qsize 1\n",
      "2020-03-21 18:17:21,108 : INFO : EPOCH 3 - PROGRESS: at 48.72% examples, 772902 words/s, in_qsize 8, out_qsize 0\n",
      "2020-03-21 18:17:22,111 : INFO : EPOCH 3 - PROGRESS: at 54.87% examples, 775065 words/s, in_qsize 8, out_qsize 0\n",
      "2020-03-21 18:17:23,133 : INFO : EPOCH 3 - PROGRESS: at 60.85% examples, 773881 words/s, in_qsize 8, out_qsize 0\n",
      "2020-03-21 18:17:24,140 : INFO : EPOCH 3 - PROGRESS: at 66.63% examples, 770574 words/s, in_qsize 7, out_qsize 0\n",
      "2020-03-21 18:17:25,142 : INFO : EPOCH 3 - PROGRESS: at 72.66% examples, 771218 words/s, in_qsize 7, out_qsize 0\n",
      "2020-03-21 18:17:26,150 : INFO : EPOCH 3 - PROGRESS: at 78.49% examples, 769317 words/s, in_qsize 8, out_qsize 0\n",
      "2020-03-21 18:17:27,154 : INFO : EPOCH 3 - PROGRESS: at 84.62% examples, 770262 words/s, in_qsize 7, out_qsize 0\n",
      "2020-03-21 18:17:28,157 : INFO : EPOCH 3 - PROGRESS: at 90.71% examples, 771227 words/s, in_qsize 7, out_qsize 0\n"
     ]
    },
    {
     "name": "stderr",
     "output_type": "stream",
     "text": [
      "2020-03-21 18:17:29,160 : INFO : EPOCH 3 - PROGRESS: at 96.80% examples, 771523 words/s, in_qsize 7, out_qsize 0\n",
      "2020-03-21 18:17:29,660 : INFO : worker thread finished; awaiting finish of 3 more threads\n",
      "2020-03-21 18:17:29,668 : INFO : worker thread finished; awaiting finish of 2 more threads\n",
      "2020-03-21 18:17:29,680 : INFO : worker thread finished; awaiting finish of 1 more threads\n",
      "2020-03-21 18:17:29,686 : INFO : worker thread finished; awaiting finish of 0 more threads\n",
      "2020-03-21 18:17:29,687 : INFO : EPOCH - 3 : training on 17798269 raw words (12870977 effective words) took 16.7s, 772278 effective words/s\n",
      "2020-03-21 18:17:30,700 : INFO : EPOCH 4 - PROGRESS: at 6.04% examples, 776215 words/s, in_qsize 7, out_qsize 0\n",
      "2020-03-21 18:17:31,703 : INFO : EPOCH 4 - PROGRESS: at 12.06% examples, 769836 words/s, in_qsize 7, out_qsize 0\n",
      "2020-03-21 18:17:32,713 : INFO : EPOCH 4 - PROGRESS: at 18.30% examples, 775463 words/s, in_qsize 7, out_qsize 0\n",
      "2020-03-21 18:17:33,727 : INFO : EPOCH 4 - PROGRESS: at 24.50% examples, 777589 words/s, in_qsize 7, out_qsize 0\n",
      "2020-03-21 18:17:34,735 : INFO : EPOCH 4 - PROGRESS: at 30.62% examples, 778079 words/s, in_qsize 7, out_qsize 0\n",
      "2020-03-21 18:17:35,739 : INFO : EPOCH 4 - PROGRESS: at 36.79% examples, 778910 words/s, in_qsize 7, out_qsize 0\n",
      "2020-03-21 18:17:36,750 : INFO : EPOCH 4 - PROGRESS: at 42.97% examples, 780961 words/s, in_qsize 7, out_qsize 0\n",
      "2020-03-21 18:17:37,753 : INFO : EPOCH 4 - PROGRESS: at 49.04% examples, 781306 words/s, in_qsize 7, out_qsize 0\n",
      "2020-03-21 18:17:38,757 : INFO : EPOCH 4 - PROGRESS: at 55.04% examples, 780026 words/s, in_qsize 8, out_qsize 0\n",
      "2020-03-21 18:17:39,769 : INFO : EPOCH 4 - PROGRESS: at 61.18% examples, 781173 words/s, in_qsize 7, out_qsize 0\n",
      "2020-03-21 18:17:40,792 : INFO : EPOCH 4 - PROGRESS: at 67.29% examples, 780108 words/s, in_qsize 7, out_qsize 0\n",
      "2020-03-21 18:17:41,796 : INFO : EPOCH 4 - PROGRESS: at 73.28% examples, 779350 words/s, in_qsize 7, out_qsize 0\n",
      "2020-03-21 18:17:42,803 : INFO : EPOCH 4 - PROGRESS: at 78.89% examples, 774493 words/s, in_qsize 5, out_qsize 2\n",
      "2020-03-21 18:17:43,808 : INFO : EPOCH 4 - PROGRESS: at 85.12% examples, 776111 words/s, in_qsize 7, out_qsize 0\n",
      "2020-03-21 18:17:44,813 : INFO : EPOCH 4 - PROGRESS: at 91.15% examples, 776056 words/s, in_qsize 7, out_qsize 0\n",
      "2020-03-21 18:17:45,817 : INFO : EPOCH 4 - PROGRESS: at 97.35% examples, 777010 words/s, in_qsize 7, out_qsize 0\n",
      "2020-03-21 18:17:46,225 : INFO : worker thread finished; awaiting finish of 3 more threads\n",
      "2020-03-21 18:17:46,234 : INFO : worker thread finished; awaiting finish of 2 more threads\n",
      "2020-03-21 18:17:46,237 : INFO : worker thread finished; awaiting finish of 1 more threads\n",
      "2020-03-21 18:17:46,250 : INFO : worker thread finished; awaiting finish of 0 more threads\n",
      "2020-03-21 18:17:46,251 : INFO : EPOCH - 4 : training on 17798269 raw words (12874389 effective words) took 16.6s, 777617 effective words/s\n",
      "2020-03-21 18:17:47,267 : INFO : EPOCH 5 - PROGRESS: at 6.04% examples, 773455 words/s, in_qsize 7, out_qsize 0\n",
      "2020-03-21 18:17:48,284 : INFO : EPOCH 5 - PROGRESS: at 12.34% examples, 780865 words/s, in_qsize 7, out_qsize 0\n",
      "2020-03-21 18:17:49,289 : INFO : EPOCH 5 - PROGRESS: at 18.58% examples, 784040 words/s, in_qsize 8, out_qsize 0\n",
      "2020-03-21 18:17:50,301 : INFO : EPOCH 5 - PROGRESS: at 24.78% examples, 784333 words/s, in_qsize 7, out_qsize 0\n",
      "2020-03-21 18:17:51,307 : INFO : EPOCH 5 - PROGRESS: at 30.92% examples, 783751 words/s, in_qsize 7, out_qsize 0\n",
      "2020-03-21 18:17:52,322 : INFO : EPOCH 5 - PROGRESS: at 37.01% examples, 780965 words/s, in_qsize 7, out_qsize 0\n",
      "2020-03-21 18:17:53,332 : INFO : EPOCH 5 - PROGRESS: at 43.14% examples, 781787 words/s, in_qsize 7, out_qsize 0\n",
      "2020-03-21 18:17:54,338 : INFO : EPOCH 5 - PROGRESS: at 49.33% examples, 783715 words/s, in_qsize 7, out_qsize 0\n",
      "2020-03-21 18:17:55,359 : INFO : EPOCH 5 - PROGRESS: at 55.49% examples, 783036 words/s, in_qsize 7, out_qsize 0\n",
      "2020-03-21 18:17:56,379 : INFO : EPOCH 5 - PROGRESS: at 61.47% examples, 781088 words/s, in_qsize 7, out_qsize 0\n",
      "2020-03-21 18:17:57,386 : INFO : EPOCH 5 - PROGRESS: at 67.75% examples, 783125 words/s, in_qsize 7, out_qsize 0\n",
      "2020-03-21 18:17:58,386 : INFO : EPOCH 5 - PROGRESS: at 73.96% examples, 784692 words/s, in_qsize 7, out_qsize 0\n",
      "2020-03-21 18:17:59,397 : INFO : EPOCH 5 - PROGRESS: at 80.15% examples, 784671 words/s, in_qsize 8, out_qsize 0\n",
      "2020-03-21 18:18:00,412 : INFO : EPOCH 5 - PROGRESS: at 85.40% examples, 776404 words/s, in_qsize 7, out_qsize 0\n",
      "2020-03-21 18:18:01,429 : INFO : EPOCH 5 - PROGRESS: at 90.54% examples, 768116 words/s, in_qsize 7, out_qsize 0\n",
      "2020-03-21 18:18:02,430 : INFO : EPOCH 5 - PROGRESS: at 96.41% examples, 766985 words/s, in_qsize 7, out_qsize 0\n",
      "2020-03-21 18:18:02,982 : INFO : worker thread finished; awaiting finish of 3 more threads\n",
      "2020-03-21 18:18:02,987 : INFO : worker thread finished; awaiting finish of 2 more threads\n",
      "2020-03-21 18:18:02,994 : INFO : worker thread finished; awaiting finish of 1 more threads\n",
      "2020-03-21 18:18:03,006 : INFO : worker thread finished; awaiting finish of 0 more threads\n",
      "2020-03-21 18:18:03,007 : INFO : EPOCH - 5 : training on 17798269 raw words (12872460 effective words) took 16.7s, 768571 effective words/s\n",
      "2020-03-21 18:18:03,007 : INFO : training on a 88991345 raw words (64362387 effective words) took 83.2s, 773245 effective words/s\n"
     ]
    },
    {
     "data": {
      "text/plain": [
       "<gensim.models.word2vec.Word2Vec at 0x2162c0662b0>"
      ]
     },
     "execution_count": 18,
     "metadata": {},
     "output_type": "execute_result"
    }
   ],
   "source": [
    "# 파라메터값 지정\n",
    "num_features = 300 # 문자 벡터 차원 수\n",
    "min_word_count = 40 # 최소 문자 수\n",
    "num_workers = 4 # 병렬 처리 스레드 수\n",
    "context = 10 # 문자열 창 크기\n",
    "downsampling = 1e-3 # 문자 빈도 수 Downsample\n",
    "\n",
    "# 초기화 및 모델 학습\n",
    "from gensim.models import word2vec\n",
    "\n",
    "# 모델 학습\n",
    "model = word2vec.Word2Vec(sentences, \n",
    "                          workers=num_workers, \n",
    "                          size=num_features, \n",
    "                          min_count=min_word_count,\n",
    "                          window=context,\n",
    "                          sample=downsampling)\n",
    "model"
   ]
  },
  {
   "cell_type": "code",
   "execution_count": 19,
   "metadata": {},
   "outputs": [
    {
     "name": "stderr",
     "output_type": "stream",
     "text": [
      "2020-03-21 18:18:21,496 : INFO : precomputing L2-norms of word weight vectors\n",
      "2020-03-21 18:18:21,509 : INFO : saving Word2Vec object under 300features_40minwords_10text, separately None\n",
      "2020-03-21 18:18:21,510 : INFO : not storing attribute vectors_norm\n",
      "2020-03-21 18:18:21,511 : INFO : not storing attribute cum_table\n",
      "2020-03-21 18:18:21,783 : INFO : saved 300features_40minwords_10text\n"
     ]
    }
   ],
   "source": [
    "# 학습이 완료 되면 필요없는 메모리를 unload 시킨다.\n",
    "model.init_sims(replace=True)\n",
    "\n",
    "model_name = '300features_40minwords_10text'\n",
    "# model_name = '300features_50minwords_20text'\n",
    "model.save(model_name)"
   ]
  },
  {
   "cell_type": "markdown",
   "metadata": {},
   "source": [
    "## 모델 결과 탐색 \n",
    "Exploring the Model Results"
   ]
  },
  {
   "cell_type": "code",
   "execution_count": 20,
   "metadata": {},
   "outputs": [
    {
     "data": {
      "text/plain": [
       "'kitchen'"
      ]
     },
     "execution_count": 20,
     "metadata": {},
     "output_type": "execute_result"
    }
   ],
   "source": [
    "# 유사도가 없는 단어 추출\n",
    "model.wv.doesnt_match('man woman child kitchen'.split())"
   ]
  },
  {
   "cell_type": "code",
   "execution_count": 21,
   "metadata": {},
   "outputs": [
    {
     "name": "stderr",
     "output_type": "stream",
     "text": [
      "2020-03-21 18:19:02,439 : WARNING : vectors for words {'germany', 'france'} are not present in the model, ignoring these words\n"
     ]
    },
    {
     "data": {
      "text/plain": [
       "'berlin'"
      ]
     },
     "execution_count": 21,
     "metadata": {},
     "output_type": "execute_result"
    }
   ],
   "source": [
    "model.wv.doesnt_match(\"france england germany berlin\".split())"
   ]
  },
  {
   "cell_type": "code",
   "execution_count": 22,
   "metadata": {},
   "outputs": [
    {
     "data": {
      "text/plain": [
       "[('woman', 0.6349436044692993),\n",
       " ('lad', 0.5239126682281494),\n",
       " ('ladi', 0.521915078163147),\n",
       " ('businessman', 0.5066684484481812),\n",
       " ('widow', 0.48788055777549744),\n",
       " ('billionair', 0.4811825156211853),\n",
       " ('millionair', 0.47496795654296875),\n",
       " ('farmer', 0.4742971956729889),\n",
       " ('men', 0.46687883138656616),\n",
       " ('monk', 0.4656956195831299)]"
      ]
     },
     "execution_count": 22,
     "metadata": {},
     "output_type": "execute_result"
    }
   ],
   "source": [
    "# 가장 유사한 단어를 추출\n",
    "model.wv.most_similar(\"man\")"
   ]
  },
  {
   "cell_type": "code",
   "execution_count": 23,
   "metadata": {},
   "outputs": [
    {
     "data": {
      "text/plain": [
       "[('princess', 0.6192038059234619),\n",
       " ('latifah', 0.5888510346412659),\n",
       " ('stepmoth', 0.5757800936698914),\n",
       " ('madam', 0.5693281888961792),\n",
       " ('victoria', 0.552128791809082),\n",
       " ('goddess', 0.5493226051330566),\n",
       " ('maid', 0.5349063873291016),\n",
       " ('maria', 0.524921178817749),\n",
       " ('mistress', 0.523820161819458),\n",
       " ('eva', 0.521909236907959)]"
      ]
     },
     "execution_count": 23,
     "metadata": {},
     "output_type": "execute_result"
    }
   ],
   "source": [
    "model.wv.most_similar(\"queen\")"
   ]
  },
  {
   "cell_type": "code",
   "execution_count": 24,
   "metadata": {},
   "outputs": [],
   "source": [
    "# model.wv.most_similar(\"awful\")"
   ]
  },
  {
   "cell_type": "code",
   "execution_count": 25,
   "metadata": {
    "scrolled": true
   },
   "outputs": [
    {
     "data": {
      "text/plain": [
       "[('movi', 0.8552342653274536),\n",
       " ('flick', 0.6132409572601318),\n",
       " ('pictur', 0.5656300187110901),\n",
       " ('documentari', 0.5652860999107361),\n",
       " ('cinema', 0.5221957564353943),\n",
       " ('it', 0.4901599884033203),\n",
       " ('masterpiec', 0.4898679256439209),\n",
       " ('genr', 0.48769527673721313),\n",
       " ('sequel', 0.4792439937591553),\n",
       " ('thriller', 0.4590575397014618)]"
      ]
     },
     "execution_count": 25,
     "metadata": {},
     "output_type": "execute_result"
    }
   ],
   "source": [
    "model.wv.most_similar(\"film\")"
   ]
  },
  {
   "cell_type": "code",
   "execution_count": 26,
   "metadata": {},
   "outputs": [
    {
     "data": {
      "text/plain": [
       "[('unhappi', 0.44974103569984436),\n",
       " ('sad', 0.4197537302970886),\n",
       " ('bitter', 0.39782387018203735),\n",
       " ('satisfi', 0.3920968174934387),\n",
       " ('lucki', 0.39091700315475464),\n",
       " ('upset', 0.3816874623298645),\n",
       " ('happier', 0.37604838609695435),\n",
       " ('sadden', 0.37482279539108276),\n",
       " ('afraid', 0.37161028385162354),\n",
       " ('joy', 0.35960668325424194)]"
      ]
     },
     "execution_count": 26,
     "metadata": {},
     "output_type": "execute_result"
    }
   ],
   "source": [
    "# model.wv.most_similar(\"happy\")\n",
    "model.wv.most_similar(\"happi\") # stemming 처리 시 "
   ]
  },
  {
   "cell_type": "markdown",
   "metadata": {},
   "source": [
    "### Word2Vec으로 벡터화 한 단어를 t-SNE 를 통해 시각화"
   ]
  },
  {
   "cell_type": "code",
   "execution_count": 27,
   "metadata": {},
   "outputs": [
    {
     "name": "stderr",
     "output_type": "stream",
     "text": [
      "2020-03-21 18:19:28,158 : INFO : loading Doc2Vec object from 300features_40minwords_10text\n",
      "2020-03-21 18:19:28,349 : INFO : loading wv recursively from 300features_40minwords_10text.wv.* with mmap=None\n",
      "2020-03-21 18:19:28,350 : INFO : setting ignored attribute vectors_norm to None\n",
      "2020-03-21 18:19:28,351 : INFO : loading vocabulary recursively from 300features_40minwords_10text.vocabulary.* with mmap=None\n",
      "2020-03-21 18:19:28,351 : INFO : loading trainables recursively from 300features_40minwords_10text.trainables.* with mmap=None\n",
      "2020-03-21 18:19:28,352 : INFO : setting ignored attribute cum_table to None\n",
      "2020-03-21 18:19:28,353 : INFO : loaded 300features_40minwords_10text\n"
     ]
    },
    {
     "name": "stdout",
     "output_type": "stream",
     "text": [
      "11986\n",
      "[-0.05201006 -0.01937312 -0.0764435   0.00196452 -0.0239618  -0.00507388\n",
      " -0.09514375 -0.06985107 -0.12170155 -0.06017362]\n"
     ]
    }
   ],
   "source": [
    "# 참고 https://stackoverflow.com/questions/43776572/visualise-word2vec-generated-from-gensim\n",
    "from sklearn.manifold import TSNE\n",
    "import matplotlib as mpl\n",
    "import matplotlib.pyplot as plt\n",
    "import gensim \n",
    "import gensim.models as g\n",
    "\n",
    "# 그래프에서 마이너스 폰트 깨지는 문제에 대한 대처\n",
    "mpl.rcParams['axes.unicode_minus'] = False\n",
    "\n",
    "model_name = '300features_40minwords_10text'\n",
    "model = g.Doc2Vec.load(model_name)\n",
    "\n",
    "vocab = list(model.wv.vocab)\n",
    "X = model[vocab]\n",
    "\n",
    "print(len(X))\n",
    "print(X[0][:10])\n",
    "tsne = TSNE(n_components=2)\n",
    "\n",
    "# 100개의 단어에 대해서만 시각화\n",
    "X_tsne = tsne.fit_transform(X[:100,:])\n",
    "# X_tsne = tsne.fit_transform(X)"
   ]
  },
  {
   "cell_type": "code",
   "execution_count": 28,
   "metadata": {},
   "outputs": [
    {
     "data": {
      "text/plain": [
       "(100, 2)"
      ]
     },
     "execution_count": 28,
     "metadata": {},
     "output_type": "execute_result"
    }
   ],
   "source": [
    "df = pd.DataFrame(X_tsne, index=vocab[:100], columns=['x', 'y'])\n",
    "df.shape"
   ]
  },
  {
   "cell_type": "code",
   "execution_count": 29,
   "metadata": {},
   "outputs": [
    {
     "data": {
      "text/html": [
       "<div>\n",
       "<style scoped>\n",
       "    .dataframe tbody tr th:only-of-type {\n",
       "        vertical-align: middle;\n",
       "    }\n",
       "\n",
       "    .dataframe tbody tr th {\n",
       "        vertical-align: top;\n",
       "    }\n",
       "\n",
       "    .dataframe thead th {\n",
       "        text-align: right;\n",
       "    }\n",
       "</style>\n",
       "<table border=\"1\" class=\"dataframe\">\n",
       "  <thead>\n",
       "    <tr style=\"text-align: right;\">\n",
       "      <th></th>\n",
       "      <th>x</th>\n",
       "      <th>y</th>\n",
       "    </tr>\n",
       "  </thead>\n",
       "  <tbody>\n",
       "    <tr>\n",
       "      <th>with</th>\n",
       "      <td>5.865674</td>\n",
       "      <td>0.019981</td>\n",
       "    </tr>\n",
       "    <tr>\n",
       "      <th>all</th>\n",
       "      <td>0.367808</td>\n",
       "      <td>-0.143440</td>\n",
       "    </tr>\n",
       "    <tr>\n",
       "      <th>this</th>\n",
       "      <td>-2.055051</td>\n",
       "      <td>-2.174962</td>\n",
       "    </tr>\n",
       "    <tr>\n",
       "      <th>stuff</th>\n",
       "      <td>-1.016428</td>\n",
       "      <td>-2.916579</td>\n",
       "    </tr>\n",
       "    <tr>\n",
       "      <th>go</th>\n",
       "      <td>2.516579</td>\n",
       "      <td>-4.720834</td>\n",
       "    </tr>\n",
       "    <tr>\n",
       "      <th>down</th>\n",
       "      <td>8.359742</td>\n",
       "      <td>-0.488916</td>\n",
       "    </tr>\n",
       "    <tr>\n",
       "      <th>at</th>\n",
       "      <td>6.534915</td>\n",
       "      <td>-1.587489</td>\n",
       "    </tr>\n",
       "    <tr>\n",
       "      <th>the</th>\n",
       "      <td>1.404747</td>\n",
       "      <td>1.134505</td>\n",
       "    </tr>\n",
       "    <tr>\n",
       "      <th>moment</th>\n",
       "      <td>-5.486489</td>\n",
       "      <td>-3.416289</td>\n",
       "    </tr>\n",
       "    <tr>\n",
       "      <th>mj</th>\n",
       "      <td>2.013683</td>\n",
       "      <td>5.976154</td>\n",
       "    </tr>\n",
       "  </tbody>\n",
       "</table>\n",
       "</div>"
      ],
      "text/plain": [
       "               x         y\n",
       "with    5.865674  0.019981\n",
       "all     0.367808 -0.143440\n",
       "this   -2.055051 -2.174962\n",
       "stuff  -1.016428 -2.916579\n",
       "go      2.516579 -4.720834\n",
       "down    8.359742 -0.488916\n",
       "at      6.534915 -1.587489\n",
       "the     1.404747  1.134505\n",
       "moment -5.486489 -3.416289\n",
       "mj      2.013683  5.976154"
      ]
     },
     "execution_count": 29,
     "metadata": {},
     "output_type": "execute_result"
    }
   ],
   "source": [
    "df.head(10)"
   ]
  },
  {
   "cell_type": "code",
   "execution_count": 30,
   "metadata": {},
   "outputs": [
    {
     "data": {
      "image/png": "[encoded data removed]",
      "text/plain": [
       "<Figure size 2880x1440 with 1 Axes>"
      ]
     },
     "metadata": {
      "needs_background": "light"
     },
     "output_type": "display_data"
    }
   ],
   "source": [
    "fig = plt.figure()\n",
    "fig.set_size_inches(40, 20)\n",
    "ax = fig.add_subplot(1, 1, 1)\n",
    "\n",
    "ax.scatter(df['x'], df['y'])\n",
    "\n",
    "for word, pos in df.iterrows():\n",
    "    ax.annotate(word, pos, fontsize=30)\n",
    "plt.show()"
   ]
  },
  {
   "cell_type": "code",
   "execution_count": 31,
   "metadata": {},
   "outputs": [],
   "source": [
    "import numpy as np\n",
    "\n",
    "def makeFeatureVec(words, model, num_features):\n",
    "    \"\"\"\n",
    "    주어진 문장에서 단어 벡터의 평균을 구하는 함수\n",
    "    \"\"\"\n",
    "    # 속도를 위해 0으로 채운 배열로 초기화 한다.\n",
    "    featureVec = np.zeros((num_features,),dtype=\"float32\")\n",
    "\n",
    "    nwords = 0.\n",
    "    # Index2word는 모델의 사전에 있는 단어명을 담은 리스트이다.\n",
    "    # 속도를 위해 set 형태로 초기화 한다.\n",
    "    index2word_set = set(model.wv.index2word)\n",
    "    # 루프를 돌며 모델 사전에 포함이 되는 단어라면 피처에 추가한다.\n",
    "    for word in words:\n",
    "        if word in index2word_set:\n",
    "            nwords = nwords + 1.\n",
    "            featureVec = np.add(featureVec,model[word])\n",
    "    # 결과를 단어수로 나누어 평균을 구한다.\n",
    "    featureVec = np.divide(featureVec,nwords)\n",
    "    return featureVec"
   ]
  },
  {
   "cell_type": "code",
   "execution_count": 32,
   "metadata": {},
   "outputs": [],
   "source": [
    "def getAvgFeatureVecs(reviews, model, num_features):\n",
    "    # 리뷰 단어 목록의 각각에 대한 평균 feature 벡터를 계산하고 \n",
    "    # 2D numpy 배열을 반환한다.\n",
    "    \n",
    "    # 카운터를 초기화 한다.\n",
    "    counter = 0.\n",
    "    # 속도를 위해 2D 넘파이 배열을 미리 할당한다.\n",
    "    reviewFeatureVecs = np.zeros(\n",
    "        (len(reviews),num_features),dtype=\"float32\")\n",
    "    \n",
    "    for review in reviews:\n",
    "       # 매 1000개 리뷰마다 상태를 출력\n",
    "       if counter%1000. == 0.:\n",
    "           print(\"Review %d of %d\" % (counter, len(reviews)))\n",
    "       # 평균 피처 벡터를 만들기 위해 위에서 정의한 함수를 호출한다.\n",
    "       reviewFeatureVecs[int(counter)] = makeFeatureVec(review, model, \\\n",
    "           num_features)\n",
    "       # 카운터를 증가시킨다.\n",
    "       counter = counter + 1.\n",
    "    return reviewFeatureVecs"
   ]
  },
  {
   "cell_type": "code",
   "execution_count": 33,
   "metadata": {},
   "outputs": [],
   "source": [
    "# 멀티스레드로 4개의 워커를 사용해 처리한다.\n",
    "def getCleanReviews(reviews):\n",
    "    clean_reviews = []\n",
    "    clean_reviews = KaggleWord2VecUtility.apply_by_multiprocessing(\\\n",
    "        reviews[\"review\"], KaggleWord2VecUtility.review_to_wordlist,\\\n",
    "        workers=4)\n",
    "    return clean_reviews"
   ]
  },
  {
   "cell_type": "code",
   "execution_count": 34,
   "metadata": {},
   "outputs": [
    {
     "name": "stdout",
     "output_type": "stream",
     "text": [
      "Review 0 of 25000\n",
      "Review 1000 of 25000\n",
      "Review 2000 of 25000\n",
      "Review 3000 of 25000\n",
      "Review 4000 of 25000\n",
      "Review 5000 of 25000\n",
      "Review 6000 of 25000\n",
      "Review 7000 of 25000\n",
      "Review 8000 of 25000\n",
      "Review 9000 of 25000\n",
      "Review 10000 of 25000\n",
      "Review 11000 of 25000\n",
      "Review 12000 of 25000\n",
      "Review 13000 of 25000\n",
      "Review 14000 of 25000\n",
      "Review 15000 of 25000\n",
      "Review 16000 of 25000\n",
      "Review 17000 of 25000\n",
      "Review 18000 of 25000\n",
      "Review 19000 of 25000\n",
      "Review 20000 of 25000\n",
      "Review 21000 of 25000\n",
      "Review 22000 of 25000\n",
      "Review 23000 of 25000\n",
      "Review 24000 of 25000\n",
      "Wall time: 1min 9s\n"
     ]
    }
   ],
   "source": [
    "%time trainDataVecs = getAvgFeatureVecs(\\\n",
    "    getCleanReviews(train), model, num_features ) "
   ]
  },
  {
   "cell_type": "code",
   "execution_count": 35,
   "metadata": {},
   "outputs": [
    {
     "name": "stdout",
     "output_type": "stream",
     "text": [
      "Review 0 of 25000\n",
      "Review 1000 of 25000\n",
      "Review 2000 of 25000\n",
      "Review 3000 of 25000\n",
      "Review 4000 of 25000\n",
      "Review 5000 of 25000\n",
      "Review 6000 of 25000\n",
      "Review 7000 of 25000\n",
      "Review 8000 of 25000\n",
      "Review 9000 of 25000\n",
      "Review 10000 of 25000\n",
      "Review 11000 of 25000\n",
      "Review 12000 of 25000\n",
      "Review 13000 of 25000\n",
      "Review 14000 of 25000\n",
      "Review 15000 of 25000\n",
      "Review 16000 of 25000\n",
      "Review 17000 of 25000\n",
      "Review 18000 of 25000\n",
      "Review 19000 of 25000\n",
      "Review 20000 of 25000\n",
      "Review 21000 of 25000\n",
      "Review 22000 of 25000\n",
      "Review 23000 of 25000\n",
      "Review 24000 of 25000\n",
      "Wall time: 1min 13s\n"
     ]
    }
   ],
   "source": [
    "%time testDataVecs = getAvgFeatureVecs(\\\n",
    "        getCleanReviews(test), model, num_features )"
   ]
  },
  {
   "cell_type": "code",
   "execution_count": 36,
   "metadata": {},
   "outputs": [],
   "source": [
    "from sklearn.ensemble import RandomForestClassifier\n",
    "\n",
    "forest = RandomForestClassifier(\n",
    "    n_estimators = 100, n_jobs = -1, random_state=2018)"
   ]
  },
  {
   "cell_type": "code",
   "execution_count": 37,
   "metadata": {},
   "outputs": [
    {
     "name": "stdout",
     "output_type": "stream",
     "text": [
      "Wall time: 6.99 s\n"
     ]
    }
   ],
   "source": [
    "%time forest = forest.fit( trainDataVecs, train[\"sentiment\"] )"
   ]
  },
  {
   "cell_type": "code",
   "execution_count": 38,
   "metadata": {},
   "outputs": [
    {
     "name": "stdout",
     "output_type": "stream",
     "text": [
      "Wall time: 1min 48s\n"
     ]
    }
   ],
   "source": [
    "from sklearn.model_selection import cross_val_score\n",
    "%time score = np.mean(cross_val_score(\\\n",
    "    forest, trainDataVecs, \\\n",
    "    train['sentiment'], cv=10, scoring='roc_auc'))"
   ]
  },
  {
   "cell_type": "code",
   "execution_count": 39,
   "metadata": {},
   "outputs": [
    {
     "data": {
      "text/plain": [
       "0.906367904"
      ]
     },
     "execution_count": 39,
     "metadata": {},
     "output_type": "execute_result"
    }
   ],
   "source": [
    "score"
   ]
  },
  {
   "cell_type": "code",
   "execution_count": 40,
   "metadata": {},
   "outputs": [],
   "source": [
    "result = forest.predict( testDataVecs )"
   ]
  },
  {
   "cell_type": "code",
   "execution_count": 41,
   "metadata": {},
   "outputs": [],
   "source": [
    "output = pd.DataFrame( data={\"id\":test[\"id\"], \"sentiment\":result} )\n",
    "output.to_csv('data/Word2Vec_AverageVectors_{0:.5f}.csv'.format(score), \n",
    "              index=False, quoting=3 )"
   ]
  },
  {
   "cell_type": "markdown",
   "metadata": {},
   "source": [
    "* 300features_40minwords_10text 일 때 0.90709436799999987\n",
    "* 300features_50minwords_20text 일 때 0.86815798399999999"
   ]
  },
  {
   "cell_type": "code",
   "execution_count": 42,
   "metadata": {},
   "outputs": [
    {
     "name": "stdout",
     "output_type": "stream",
     "text": [
      "-128\n"
     ]
    },
    {
     "data": {
      "text/plain": [
       "1    12564\n",
       "0    12436\n",
       "Name: sentiment, dtype: int64"
      ]
     },
     "execution_count": 42,
     "metadata": {},
     "output_type": "execute_result"
    }
   ],
   "source": [
    "output_sentiment = output['sentiment'].value_counts()\n",
    "print(output_sentiment[0] - output_sentiment[1])\n",
    "output_sentiment"
   ]
  },
  {
   "cell_type": "code",
   "execution_count": 43,
   "metadata": {},
   "outputs": [
    {
     "data": {
      "text/plain": [
       "<matplotlib.axes._subplots.AxesSubplot at 0x21649ca5128>"
      ]
     },
     "execution_count": 43,
     "metadata": {},
     "output_type": "execute_result"
    },
    {
     "data": {
      "image/png": "[encoded data removed]",
      "text/plain": [
       "<Figure size 864x360 with 2 Axes>"
      ]
     },
     "metadata": {
      "needs_background": "light"
     },
     "output_type": "display_data"
    }
   ],
   "source": [
    "import seaborn as sns \n",
    "%matplotlib inline\n",
    "\n",
    "fig, axes = plt.subplots(ncols=2)\n",
    "fig.set_size_inches(12,5)\n",
    "sns.countplot(train['sentiment'], ax=axes[0])\n",
    "sns.countplot(output['sentiment'], ax=axes[1])"
   ]
  },
  {
   "cell_type": "code",
   "execution_count": 44,
   "metadata": {},
   "outputs": [
    {
     "data": {
      "text/plain": [
       "0.9411764705882353"
      ]
     },
     "execution_count": 44,
     "metadata": {},
     "output_type": "execute_result"
    }
   ],
   "source": [
    "544/578"
   ]
  },
  {
   "cell_type": "code",
   "execution_count": null,
   "metadata": {},
   "outputs": [],
   "source": []
  }
 ],
 "metadata": {
  "kernelspec": {
   "display_name": "Python 3",
   "language": "python",
   "name": "python3"
  },
  "language_info": {
   "codemirror_mode": {
    "name": "ipython",
    "version": 3
   },
   "file_extension": ".py",
   "mimetype": "text/x-python",
   "name": "python",
   "nbconvert_exporter": "python",
   "pygments_lexer": "ipython3",
   "version": "3.6.10"
  }
 },
 "nbformat": 4,
 "nbformat_minor": 2
}
